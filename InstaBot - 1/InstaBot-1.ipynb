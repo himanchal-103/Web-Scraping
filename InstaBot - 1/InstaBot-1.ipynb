{
 "cells": [
  {
   "cell_type": "code",
   "execution_count": 1,
   "id": "dca1491d",
   "metadata": {},
   "outputs": [],
   "source": [
    "# importing libraries\n",
    "import time\n",
    "from selenium import webdriver\n",
    "from selenium.webdriver.common.by import By\n",
    "from selenium.webdriver.support.wait import WebDriverWait\n",
    "from selenium.webdriver.support import expected_conditions as EC\n",
    "from selenium.webdriver.common.keys import Keys\n",
    "\n",
    "from selenium.common.exceptions import TimeoutException\n",
    "from selenium.common.exceptions import NoSuchElementException"
   ]
  },
  {
   "cell_type": "code",
   "execution_count": 2,
   "id": "ce3fff86",
   "metadata": {},
   "outputs": [],
   "source": [
    "# Setting up the chrome webdriver\n",
    "driver=webdriver.Chrome(executable_path='/Users/himanchalverma/Downloads/chromedriver')\n",
    "\n",
    "driver.get('https://www.instagram.com')\n",
    "wait=WebDriverWait(driver,20)"
   ]
  },
  {
   "cell_type": "markdown",
   "id": "bb678cbf",
   "metadata": {},
   "source": [
    "**1. INSTAGRAM LOGIN:**"
   ]
  },
  {
   "cell_type": "code",
   "execution_count": 3,
   "id": "ea2ebc2b",
   "metadata": {},
   "outputs": [],
   "source": [
    "# Function to login in Instagram page\n",
    "def login_page_bypass(driver, user_nm, pass_word):\n",
    "    name=wait.until(EC.element_to_be_clickable((By.NAME,'username'))).send_keys(user_nm)\n",
    "    password=wait.until(EC.element_to_be_clickable((By.NAME,'password'))).send_keys(pass_word)\n",
    "    btn=wait.until(EC.element_to_be_clickable((By.XPATH,'//*[@id=\"loginForm\"]/div/div[3]/button'))).submit()\n",
    "    \n",
    "    # for first notification\n",
    "    btn=wait.until(EC.element_to_be_clickable((By.CSS_SELECTOR,'div.cmbtv'))).click()\n",
    "    \n",
    "    # for second notification\n",
    "    btn=wait.until(EC.element_to_be_clickable((By.CSS_SELECTOR,'button._a9_1'))).click()"
   ]
  },
  {
   "cell_type": "code",
   "execution_count": 4,
   "id": "f91511bb",
   "metadata": {},
   "outputs": [],
   "source": [
    "# username is your phone number\n",
    "username= '' \n",
    "\n",
    "# your password\n",
    "password=''\n",
    "\n",
    "# calling Function\n",
    "login_page_bypass(driver, username, password)"
   ]
  },
  {
   "cell_type": "markdown",
   "id": "dc767d39",
   "metadata": {},
   "source": [
    "**2. TYPE FOR 'food' IN SEARCH BAR AND PRINT ALL THE NAMES OF THE INSTAGRAM HANDLES THAT ARE DISPLAYED**\n",
    "\n",
    "Note : Make sure to avoid printing hashtags"
   ]
  },
  {
   "cell_type": "code",
   "execution_count": 5,
   "id": "8a3e7d7f",
   "metadata": {},
   "outputs": [],
   "source": [
    "# Function to search for a keyword in the Instagram search box\n",
    "def Search(driver, keyword):\n",
    "    # Locate the search box\n",
    "    box=driver.find_element(By.XPATH,'//input[@placeholder=\"Search\"]')\n",
    "\n",
    "    # Clear any pre-existing text from the search box\n",
    "    box.clear()\n",
    "\n",
    "    # Input the specified keyword into the search box\n",
    "    box.send_keys(keyword)\n",
    "\n",
    "\n",
    "\n",
    "# Function to search for and list Instagram handles related to a keyword\n",
    "def food_handles(string):\n",
    "    Search(driver, string) # calling Search function\n",
    "    \n",
    "    time.sleep(5)\n",
    "    btn=driver.find_elements(By.CSS_SELECTOR,'div._abn->div')\n",
    "\n",
    "    # Iterate through the list of elements (handles)\n",
    "    for i in btn:\n",
    "        n=i.text\n",
    "        if n[0]!='#':\n",
    "            print(n)"
   ]
  },
  {
   "cell_type": "code",
   "execution_count": 33,
   "id": "219ae543",
   "metadata": {},
   "outputs": [
    {
     "name": "stdout",
     "output_type": "stream",
     "text": [
      "foodie.raipurian\n",
      "Foodie Raipurian\n",
      "raipurfood_byora\n",
      "INDIAN FOOD BYORA\n",
      "delhifoodguide\n",
      "Delhi Food Guide\n",
      "raipurfoodpedia\n",
      "Mayank Karra | Raipurfoodpedia 🍧🍔🍕\n",
      "raipurfoodielove\n",
      "Adarsh Mishra\n",
      "dilsefoodie\n",
      "Karan Dua\n",
      "food\n",
      "Food\n",
      "foodie_incarnate\n",
      "Amar Sirohi\n",
      "rajnee_dhiwar\n",
      "Rajnee Dhiwar•Fitness•Food\n",
      "foodi_e218\n",
      "Escape Food & Travel\n",
      "foodzeee\n",
      "FOODZEEE 🍴\n",
      "cg_food_lover\n",
      "foodieWorld_CG\n",
      "foodlibraryraipur\n",
      "Food Library\n",
      "miss.foodzy\n",
      "🇮🇳 Kanishka Choudhary 🇮🇳\n",
      "foodstuds_\n",
      "FOODSTUDS | 📍Bilaspur\n",
      "foodgassssssm\n",
      "SOUMYA & PAYAL ❤️\n",
      "bhilaifoood\n",
      "bhilai food\n",
      "raipurfoodie\n",
      "Raipur Foodie\n",
      "food__snapper\n",
      "EverY FooD HaS a StorY📸\n",
      "foodie_bilaspur_cg10\n",
      "HONEY\n",
      "delhifoodwalks\n",
      "Delhi Food Walks\n",
      "bilaspurfoodlove\n",
      "Bilaspur Food Love ™\n",
      "food_garage_india\n",
      "Food Garage India\n",
      "foodiee_voodiee_bsp_rpr\n",
      "Thefoodiemedico ⚕️\n",
      "foodiesiblings__\n",
      "Foodie siblings | food blogger\n",
      "foodiebilaspur\n",
      "Foodie Bilaspur™\n",
      "foodieshivi\n",
      "Shivani Kurre\n",
      "#food\n",
      "490,862,648 posts\n",
      "yourfoodlab\n",
      "Your Food Lab\n",
      "foodrush.recipe\n",
      "FoodRush\n",
      "foodie.pandit78\n",
      "Rahul Pandey | Bilaspur 🇮🇳\n",
      "thedreamyfood_craver\n",
      "FOOD VLOGGER | 📍Hyderabad\n",
      "foodtaleswidme\n",
      "Food Tales wid Me | Dipti\n",
      "raipurfoodstuff\n",
      "Adarsh Baranwal\n",
      "travel.food.pictures\n",
      "Travel 🚘 | Food 🤤 | Picture 📸\n",
      "indian_tasty_food\n",
      "indian_food\n",
      "#foodie\n",
      "221,057,945 posts\n",
      "foodies_aao\n",
      "foodies aao\n",
      "#foodporn\n",
      "289,169,527 posts\n",
      "freakin_foodies\n",
      "FREAKIN FOODIES | RISHABH\n",
      "raipurfoodshots\n",
      "𝐑𝐚𝐢𝐩𝐮𝐫𝐟𝐨𝐨𝐝𝐬𝐡𝐨𝐭𝐬™🍕🍟🥤🧃🍿☕🍦🍔🍰\n",
      "chaisuttabar04\n",
      "Chai Sutta Bar {Food Library}\n",
      "zack.chug\n",
      "FOOD & FAT LOSS & MOTIVATION\n",
      "foodiewe04\n",
      "FOODIEWEE\n",
      "food_buzz_\n",
      "Food Buzz ❤️‍🔥\n",
      "foodieebaee\n",
      "Shreshtha | Delhi Food Blog\n",
      "#foodblogger\n",
      "73,909,914 posts\n",
      "_food_n_food_\n",
      "_food lover_❤\n",
      "cg_food_and_travel\n",
      "the.foodie.chef\n",
      "Vatsal Badwani\n",
      "hey_foodies.ll\n",
      "_ꜰʟᴜꜰꜰy._.ꜰᴏᴏᴅɪᴇꜱ_ !! ᴅᴜʀɢ🥂!!\n",
      "foodmedia09\n",
      "shivani shukla🌻\n",
      "foodies_stop__\n",
      "Khushi||Food Business\n",
      "foodie_buddiess\n",
      "Foodie Buddiess Raipur\n",
      "yummyyydelights\n",
      "BAANI | Food & Lifestyle\n",
      "Food Library Raipur\n"
     ]
    }
   ],
   "source": [
    "# calling function to display results\n",
    "food_handles('food')"
   ]
  },
  {
   "cell_type": "markdown",
   "id": "216d90e5",
   "metadata": {},
   "source": [
    "**3. SEARCHING AND OPENING A PROFILE USING OPEN PROFILE OF \"So Delhi\"**"
   ]
  },
  {
   "cell_type": "code",
   "execution_count": 6,
   "id": "e3848bf6",
   "metadata": {},
   "outputs": [],
   "source": [
    "# Function to open an Instagram profile\n",
    "def Open_profile(string):\n",
    "    # calling Search function\n",
    "    Search(driver, string)\n",
    "\n",
    "    time.sleep(3)\n",
    "\n",
    "    # Wait until the profile element becomes clickable\n",
    "    profile=wait.until(EC.element_to_be_clickable((By.CLASS_NAME,'_ab8w._ab94._ab97._ab9f._ab9k._ab9p._ab9-._aba8._abcm')))\n",
    "    profile.click()"
   ]
  },
  {
   "cell_type": "code",
   "execution_count": 12,
   "id": "11051077",
   "metadata": {},
   "outputs": [],
   "source": [
    "# calling function\n",
    "Open_profile('So Delhi')"
   ]
  },
  {
   "cell_type": "markdown",
   "id": "ba8d2b85",
   "metadata": {},
   "source": [
    "**4. FOLLOW / UNFOLLOW GIVEN INSTAGRAM HANDLE**\n",
    "\n",
    "Open the Instagram Handle of “So Delhi”\n",
    "Start following it. Print a message if you are already following\n",
    "After following, unfollow the instagram handle. Print a message if you have already unfollowed."
   ]
  },
  {
   "cell_type": "code",
   "execution_count": 24,
   "id": "8f58ba56",
   "metadata": {},
   "outputs": [],
   "source": [
    "# Function to follow a specific Instagram handle\n",
    "def follow_handle(string):\n",
    "    # calling function to open specific profile\n",
    "    Open_profile(string)\n",
    "\n",
    "    # Wait until the \"Follow\" button becomes clickable\n",
    "    follow_btn=wait.until(EC.element_to_be_clickable((By.CSS_SELECTOR,'div._ab8w._ab94._ab99._ab9f._ab9m._ab9p._abb0._abcm>button')))\n",
    "    \n",
    "    if follow_btn.text=='Follow':\n",
    "        follow_btn.click()\n",
    "        print('You started following this id')\n",
    "    else:\n",
    "        print('You already followed this id')"
   ]
  },
  {
   "cell_type": "code",
   "execution_count": 25,
   "id": "700c0be6",
   "metadata": {},
   "outputs": [
    {
     "name": "stdout",
     "output_type": "stream",
     "text": [
      "You already followed this id\n"
     ]
    }
   ],
   "source": [
    "# calling function\n",
    "follow_handle('So Delhi')"
   ]
  },
  {
   "cell_type": "code",
   "execution_count": 31,
   "id": "8e3c6e10",
   "metadata": {},
   "outputs": [],
   "source": [
    "# Function to unfollow a specific Instagram handle\n",
    "def unfollow_handle(string):\n",
    "    # calling function to open specific profile\n",
    "    Open_profile(string)\n",
    "    time.sleep(3)\n",
    "\n",
    "    # Wait until the \"Unfollow\" button becomes clickable\n",
    "    unfollow_btn=wait.until(EC.element_to_be_clickable((By.CSS_SELECTOR,'div._ab8w._ab94._ab99._ab9f._ab9m._ab9p._abb0._abcm>button')))\n",
    "    \n",
    "    if unfollow_btn.text=='Follow':\n",
    "        print('Already unfollowed the id')\n",
    "    else:\n",
    "        unfollow_btn.click()\n",
    "        time.sleep(3)\n",
    "        unfollow_btn=wait.until(EC.element_to_be_clickable((By.CLASS_NAME,'_a9--._a9-_')))\n",
    "        unfollow_btn.click()\n",
    "        print('Unfollowed')"
   ]
  },
  {
   "cell_type": "code",
   "execution_count": 33,
   "id": "33d23dac",
   "metadata": {},
   "outputs": [
    {
     "name": "stdout",
     "output_type": "stream",
     "text": [
      "Unfollowed\n"
     ]
    }
   ],
   "source": [
    "# calling function\n",
    "unfollow_handle('So Delhi')"
   ]
  },
  {
   "cell_type": "markdown",
   "id": "7002d4b6",
   "metadata": {},
   "source": [
    "**5. LIKE / UNLIKE INSTAGRAM POSTS**\n",
    "\n",
    "Liking the top 30 posts of the ‘dilsefoodie'. Print message if you have already liked it.\n",
    "Unliking the top 30 posts of the ‘dilsefoodie’. Print message if you have already unliked it. "
   ]
  },
  {
   "cell_type": "code",
   "execution_count": 10,
   "id": "b1c652e4",
   "metadata": {},
   "outputs": [],
   "source": [
    "# calling function 'Open_profile' to open instagram profile page\n",
    "Open_profile('dilsefoodie')"
   ]
  },
  {
   "cell_type": "code",
   "execution_count": 11,
   "id": "b2bc976d",
   "metadata": {},
   "outputs": [],
   "source": [
    "# Function to scroll through the Instagram feed and like posts\n",
    "def post_like():\n",
    "    # Get the current scroll height of the page\n",
    "    current_ht=driver.execute_script('return document.body.scrollHeight;')\n",
    "    \n",
    "    # Scroll the window down by the current scroll height\n",
    "    driver.execute_script('window.scrollTo(0,arguments[0]);', current_ht)\n",
    "    \n",
    "    time.sleep(2)\n",
    "\n",
    "    # Wait until posts on the page are loaded\n",
    "    wait.until(EC.presence_of_element_located((By.CLASS_NAME,'_ac7v._aang'))) \n",
    "\n",
    "    photos=driver.find_elements(By.CSS_SELECTOR,'div._aagw') # find all the posts\n",
    "    print(len(photos))\n",
    "    \n",
    "    # Loop to interact with the first 3 posts on the page\n",
    "    for i in range(3):\n",
    "        photos[i].click()\n",
    "        time.sleep(3)\n",
    "        like=driver.find_element(By.CSS_SELECTOR,'span._aamw')#span._aamw #button._abl-\n",
    "        time.sleep(2)\n",
    "        try:\n",
    "            pic=driver.find_element(By.CSS_SELECTOR,'span._aamw>button>div>svg')\n",
    "            if pic.get_attribute('aria-label') == 'Like': \n",
    "                like.click()\n",
    "                driver.find_element(By.CLASS_NAME,'o9tjht9c.jar9mtx6.mbzxb4f5.njoytozt').click() #nttjwlih\n",
    "                print('You liked post number', i+1)\n",
    "        except (NoSuchElementException, TimeoutException):\n",
    "            pic=driver.find_element(By.CSS_SELECTOR,'span._aamw>button>div>span>svg')\n",
    "            if pic.get_attribute('aria-label') == 'Unlike':\n",
    "                print('You have already liked post number', i+1)\n",
    "                time.sleep(2)\n",
    "                driver.find_element(By.CLASS_NAME,'nttjwlih').click() \n",
    "                time.sleep(2)"
   ]
  },
  {
   "cell_type": "code",
   "execution_count": 12,
   "id": "e3b82076",
   "metadata": {},
   "outputs": [
    {
     "name": "stdout",
     "output_type": "stream",
     "text": [
      "24\n",
      "You liked post number 1\n",
      "You liked post number 2\n",
      "You have already liked post number 3\n"
     ]
    }
   ],
   "source": [
    "# calling function\n",
    "post_like()"
   ]
  },
  {
   "cell_type": "code",
   "execution_count": 17,
   "id": "c99a7cfd",
   "metadata": {},
   "outputs": [],
   "source": [
    "# Function to scroll through the Instagram feed and unlike posts\n",
    "def post_unlike():\n",
    "    # Get the current scroll height of the page\n",
    "    current_ht=driver.execute_script('return document.body.scrollHeight;')\n",
    "\n",
    "    # Scroll the window down by the current scroll height\n",
    "    driver.execute_script('window.scrollTo(0,arguments[0]);', current_ht)\n",
    "    \n",
    "    time.sleep(2)\n",
    "\n",
    "    # Wait until the posts on the page are loaded\n",
    "    wait.until(EC.presence_of_element_located((By.CLASS_NAME,'_ac7v._aang')))\n",
    "\n",
    "    photos=driver.find_elements(By.CSS_SELECTOR,'div._aagw') # find all posts\n",
    "    print(len(photos))\n",
    "    \n",
    "    # Loop to interact with the first 3 posts on the page\n",
    "    for i in range(3):\n",
    "        photos[i].click()\n",
    "        time.sleep(3)\n",
    "        unlike=driver.find_element(By.CSS_SELECTOR,'span._aamw')#span._aamw #button._abl-\n",
    "        try:\n",
    "            time.sleep(2)\n",
    "            pic=driver.find_element(By.CSS_SELECTOR,'span._aamw>button>div>span>svg')\n",
    "            if pic.get_attribute('aria-label') == 'Unlike': \n",
    "                unlike.click()\n",
    "                driver.find_element(By.CLASS_NAME,'o9tjht9c.jar9mtx6.mbzxb4f5.njoytozt').click() #nttjwlih\n",
    "                print('You unliked post number', i+1)\n",
    "        except (NoSuchElementException, TimeoutException): #changes require in this segment of the code\n",
    "            time.sleep(2)\n",
    "            pic=driver.find_element(By.CSS_SELECTOR,'span._aamw>button>div>svg')\n",
    "            if pic.get_attribute('aria-label') == 'Like':\n",
    "                print('You have already unliked post number', i+1)\n",
    "                time.sleep(2)\n",
    "                driver.find_element(By.CLASS_NAME,'nttjwlih').click() \n",
    "                time.sleep(2)"
   ]
  },
  {
   "cell_type": "code",
   "execution_count": 18,
   "id": "1f7a6a7e",
   "metadata": {},
   "outputs": [
    {
     "name": "stdout",
     "output_type": "stream",
     "text": [
      "24\n",
      "You unliked post number 1\n",
      "You unliked post number 2\n",
      "You unliked post number 3\n"
     ]
    }
   ],
   "source": [
    "# calling function\n",
    "post_unlike()"
   ]
  },
  {
   "cell_type": "markdown",
   "id": "f715a659",
   "metadata": {},
   "source": [
    "**6. CHECK THE STORY OF ANY INSTAGRAM HANDLE**\n",
    "\n",
    "Consider the following scenarios and print error messages accordingly:\n",
    "1. If You have already seen the story.\n",
    "2. Or The user has no story.\n",
    "3. Or View the story if not yet seen."
   ]
  },
  {
   "cell_type": "code",
   "execution_count": 14,
   "id": "675a2d1e",
   "metadata": {},
   "outputs": [],
   "source": [
    "# calling function\n",
    "Open_profile('coding.ninjas')"
   ]
  },
  {
   "cell_type": "code",
   "execution_count": 18,
   "id": "fe0b45f5",
   "metadata": {},
   "outputs": [],
   "source": [
    "# Function to check whether an Instagram user has an active story and if it has been seen or not\n",
    "def story_check(driver, string):\n",
    "    # calling function to open profile\n",
    "    Open_profile(string)\n",
    "    time.sleep(2)\n",
    "    \n",
    "    try:\n",
    "        # Wait until the story element is present \n",
    "        btn=wait.until(EC.presence_of_element_located((By.CLASS_NAME,'_aarf._aarg')))\n",
    "\n",
    "        # Retrieve the height attribute of the story element's canvas (used to check if the story has been seen)\n",
    "        height = driver.find_element(By.CSS_SELECTOR,\"div._aarf._aarg>canvas\").get_attribute('height')\n",
    "\n",
    "        if int(height)==174:\n",
    "            print('Already seen the story')\n",
    "        else:\n",
    "            btn.click()\n",
    "            print('seeing the story')\n",
    "    except TimeoutException:\n",
    "        # If no story element is found\n",
    "        print('no story uploaded')\n",
    "        \n",
    "        "
   ]
  },
  {
   "cell_type": "code",
   "execution_count": 19,
   "id": "4b36fe3d",
   "metadata": {},
   "outputs": [
    {
     "name": "stdout",
     "output_type": "stream",
     "text": [
      "Already seen the story\n"
     ]
    }
   ],
   "source": [
    "# calling function\n",
    "story_check(driver, 'coding.ninjas')"
   ]
  },
  {
   "cell_type": "code",
   "execution_count": null,
   "id": "25cd0aba",
   "metadata": {},
   "outputs": [],
   "source": [
    "# Closes the browser window and terminates the WebDriver session\n",
    "driver.quit()"
   ]
  }
 ],
 "metadata": {
  "kernelspec": {
   "display_name": "Python 3 (ipykernel)",
   "language": "python",
   "name": "python3"
  },
  "language_info": {
   "codemirror_mode": {
    "name": "ipython",
    "version": 3
   },
   "file_extension": ".py",
   "mimetype": "text/x-python",
   "name": "python",
   "nbconvert_exporter": "python",
   "pygments_lexer": "ipython3",
   "version": "3.11.9"
  }
 },
 "nbformat": 4,
 "nbformat_minor": 5
}
